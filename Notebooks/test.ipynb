{
 "cells": [
  {
   "cell_type": "code",
   "execution_count": null,
   "id": "initial_id",
   "metadata": {
    "collapsed": true
   },
   "outputs": [],
   "source": [
    "\n",
    "from selenium import webdriver\n",
    "from bs4 import BeautifulSoup\n",
    "urls = []\n",
    "browser = webdriver.Chrome()\n",
    "browser.get('https://fatestaynight.vnovel.org')\n",
    "browser.implicitly_wait(10)  # 等待10秒，确保页面加载完成\n",
    "page_source = browser.page_source\n",
    "browser.close()\n",
    "soup = BeautifulSoup(page_source, 'html.parser')\n",
    "link = soup.find_all('div',{'class':'graph'})\n",
    "link = link[0]\n",
    "link = link.find_all('a')\n",
    "for url in link:\n",
    "    urls.append('https://fatestaynight.vnovel.org' + url['href'])"
   ]
  },
  {
   "cell_type": "code",
   "execution_count": null,
   "outputs": [],
   "source": [
    "print(len(urls))"
   ],
   "metadata": {
    "collapsed": false
   },
   "id": "677ad0eb000aea5"
  },
  {
   "cell_type": "code",
   "execution_count": null,
   "outputs": [],
   "source": [
    "urls[0]"
   ],
   "metadata": {
    "collapsed": false
   },
   "id": "326671477ddc4acf"
  },
  {
   "cell_type": "code",
   "execution_count": null,
   "outputs": [],
   "source": [
    "sources = []\n",
    "for url in urls:\n",
    "    options = webdriver.ChromeOptions()\n",
    "    options.add_argument('--headless')  # 使用无头模式\n",
    "    browser = webdriver.Chrome()\n",
    "    browser.get(url)\n",
    "    browser.implicitly_wait(10)  # 等待10秒，确保页面加载完成\n",
    "    print(browser.page_source)\n",
    "    print(len(browser.page_source))\n",
    "    source = browser.page_source\n",
    "    browser.close()\n",
    "    break"
   ],
   "metadata": {
    "collapsed": false
   },
   "id": "187a00b6586e8576"
  },
  {
   "cell_type": "code",
   "execution_count": null,
   "outputs": [],
   "source": [
    "len(source)"
   ],
   "metadata": {
    "collapsed": false
   },
   "id": "5ca3b6c5231c1faf"
  },
  {
   "cell_type": "code",
   "execution_count": null,
   "outputs": [],
   "source": [
    "soup = BeautifulSoup(source, 'html.parser')\n",
    "text = soup.find_all('div')\n",
    "for i in text:\n",
    "    print(i.text)"
   ],
   "metadata": {
    "collapsed": false
   },
   "id": "e5e2935243ab489d"
  },
  {
   "cell_type": "code",
   "execution_count": null,
   "outputs": [],
   "source": [],
   "metadata": {
    "collapsed": false
   },
   "id": "8b50809d17532d91"
  }
 ],
 "metadata": {
  "kernelspec": {
   "display_name": "Python 3",
   "language": "python",
   "name": "python3"
  },
  "language_info": {
   "codemirror_mode": {
    "name": "ipython",
    "version": 2
   },
   "file_extension": ".py",
   "mimetype": "text/x-python",
   "name": "python",
   "nbconvert_exporter": "python",
   "pygments_lexer": "ipython2",
   "version": "2.7.6"
  }
 },
 "nbformat": 4,
 "nbformat_minor": 5
}
