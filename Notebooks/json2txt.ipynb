{
 "cells": [
  {
   "cell_type": "code",
   "execution_count": 1,
   "id": "initial_id",
   "metadata": {
    "collapsed": true,
    "ExecuteTime": {
     "end_time": "2023-09-14T01:30:06.382385700Z",
     "start_time": "2023-09-14T01:30:06.371371Z"
    }
   },
   "outputs": [],
   "source": [
    "import json\n",
    "\n",
    "def convert_document_to_string(doc, character):\n",
    "    \"\"\"\n",
    "    Convert a single document to the desired string format.\n",
    "    \"\"\"\n",
    "    result = []\n",
    "    for conversation in doc[\"history\"]:\n",
    "        result.append(f\"旅行者：{conversation[0]}\")\n",
    "        result.append(f\"{character}：{conversation[1]}\")\n",
    "    result.append(f\"旅行者：{doc['instruction']}\")\n",
    "    result.append(f\"{character}：{doc['output']}\")\n",
    "    return \"\\n\".join(result)\n",
    "\n",
    "def convert_json_to_txt(json_file, txt_file, character):\n",
    "    \"\"\"\n",
    "    Convert the entire json file to the desired txt format.\n",
    "    \"\"\"\n",
    "    with open(json_file, 'r', encoding='utf-8') as f:\n",
    "        data = json.load(f)\n",
    "    \n",
    "    with open(txt_file, 'w', encoding='utf-8') as f:\n",
    "        for doc in data:\n",
    "            f.write(convert_document_to_string(doc, character))\n",
    "            f.write(\"\\n\\n\")  # Add two new lines between documents"
   ]
  },
  {
   "cell_type": "code",
   "execution_count": 5,
   "outputs": [],
   "source": [
    "# Example usage\n",
    "character = \"万叶\"\n",
    "convert_json_to_txt(\"./datasets/wanye_dialogues.json\", \"wanye_dialogues.txt\", character)"
   ],
   "metadata": {
    "collapsed": false,
    "ExecuteTime": {
     "end_time": "2023-09-14T01:31:45.948103300Z",
     "start_time": "2023-09-14T01:31:45.925931Z"
    }
   },
   "id": "9fa4922fdaee63ad"
  },
  {
   "cell_type": "code",
   "execution_count": 28,
   "outputs": [
    {
     "name": "stderr",
     "output_type": "stream",
     "text": [
      "Found cached dataset text (C:/Users/linka/.cache/huggingface/datasets/text/default-b1f67976d6e998d4/0.0.0/cb1e9bd71a82ad27976be3b12b407850fe2837d80c22c5e03a28949843a8ace2)\n"
     ]
    },
    {
     "data": {
      "text/plain": "  0%|          | 0/1 [00:00<?, ?it/s]",
      "application/vnd.jupyter.widget-view+json": {
       "version_major": 2,
       "version_minor": 0,
       "model_id": "57060efc33b14b87b3f0525bf58c01ff"
      }
     },
     "metadata": {},
     "output_type": "display_data"
    },
    {
     "name": "stderr",
     "output_type": "stream",
     "text": [
      "Loading cached processed dataset at C:\\Users\\linka\\.cache\\huggingface\\datasets\\text\\default-b1f67976d6e998d4\\0.0.0\\cb1e9bd71a82ad27976be3b12b407850fe2837d80c22c5e03a28949843a8ace2\\cache-62615b73f22b7113.arrow\n"
     ]
    },
    {
     "name": "stdout",
     "output_type": "stream",
     "text": [
      "['旅行者：你好', '神里绫华：你好，旅行者', '旅行者：神里绫华', '神里绫华：今天来干什么呢？', '']\n",
      "['旅行者：你好\\n', '神里绫华：你好，旅行者\\n', '旅行者：神里绫华\\n', '神里绫华：今天来干什么呢？\\n', '\\n\\n']\n"
     ]
    }
   ],
   "source": [
    "from datasets import load_dataset\n",
    "\n",
    "# 使用load_dataset函数加载txt文件\n",
    "dataset = load_dataset(\"text\", data_files=\"./datasets/ayaka_dialogues.txt\")\n",
    "# 打印前几个样本\n",
    "print(dataset['train']['text'][0:5])\n",
    "# 如果是空，那么换成'\\n'\n",
    "dataset = dataset.map(lambda x: {'text': (x['text'] if x['text'] != '' else '\\n') + '\\n'})\n",
    "print(dataset['train']['text'][0:5])"
   ],
   "metadata": {
    "collapsed": false,
    "ExecuteTime": {
     "end_time": "2023-09-14T01:58:38.100659700Z",
     "start_time": "2023-09-14T01:58:37.908709800Z"
    }
   },
   "id": "629b7f364ec4ffc5"
  },
  {
   "cell_type": "code",
   "execution_count": null,
   "outputs": [],
   "source": [],
   "metadata": {
    "collapsed": false
   },
   "id": "b22758ad018e49a5"
  }
 ],
 "metadata": {
  "kernelspec": {
   "display_name": "Python 3",
   "language": "python",
   "name": "python3"
  },
  "language_info": {
   "codemirror_mode": {
    "name": "ipython",
    "version": 2
   },
   "file_extension": ".py",
   "mimetype": "text/x-python",
   "name": "python",
   "nbconvert_exporter": "python",
   "pygments_lexer": "ipython2",
   "version": "2.7.6"
  }
 },
 "nbformat": 4,
 "nbformat_minor": 5
}
