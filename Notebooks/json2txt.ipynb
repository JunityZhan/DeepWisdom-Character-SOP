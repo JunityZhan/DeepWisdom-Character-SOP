{
 "cells": [
  {
   "cell_type": "code",
   "execution_count": null,
   "id": "initial_id",
   "metadata": {
    "collapsed": true
   },
   "outputs": [],
   "source": [
    "import json\n",
    "\n",
    "def convert_document_to_string(doc, character):\n",
    "    \"\"\"\n",
    "    Convert a single document to the desired string format.\n",
    "    \"\"\"\n",
    "    result = []\n",
    "    for conversation in doc[\"history\"]:\n",
    "        result.append(f\"旅行者：{conversation[0]}\")\n",
    "        result.append(f\"{character}：{conversation[1]}\")\n",
    "    result.append(f\"旅行者：{doc['instruction']}\")\n",
    "    result.append(f\"{character}：{doc['output']}\")\n",
    "    return \"\\n\".join(result)\n",
    "\n",
    "def convert_json_to_txt(json_file, txt_file, character):\n",
    "    \"\"\"\n",
    "    Convert the entire json file to the desired txt format.\n",
    "    \"\"\"\n",
    "    with open(json_file, 'r', encoding='utf-8') as f:\n",
    "        data = json.load(f)\n",
    "    \n",
    "    with open(txt_file, 'w', encoding='utf-8') as f:\n",
    "        for doc in data:\n",
    "            f.write(convert_document_to_string(doc, character))\n",
    "            f.write(\"\\n\\n\")  # Add two new lines between documents"
   ]
  },
  {
   "cell_type": "code",
   "execution_count": null,
   "outputs": [],
   "source": [
    "# Example usage\n",
    "character = \"万叶\"\n",
    "convert_json_to_txt(\"./datasets/wanye_dialogues.json\", \"wanye_dialogues.txt\", character)"
   ],
   "metadata": {
    "collapsed": false
   },
   "id": "9fa4922fdaee63ad"
  },
  {
   "cell_type": "code",
   "execution_count": null,
   "outputs": [],
   "source": [
    "from datasets import load_dataset\n",
    "\n",
    "# 使用load_dataset函数加载txt文件\n",
    "dataset = load_dataset(\"text\", data_files=\"./datasets/ayaka_dialogues.txt\")\n",
    "# 打印前几个样本\n",
    "print(dataset['train']['text'][0:5])\n",
    "# 如果是空，那么换成'\\n'\n",
    "dataset = dataset.map(lambda x: {'text': (x['text'] if x['text'] != '' else '\\n') + '\\n'})\n",
    "print(dataset['train']['text'][0:5])"
   ],
   "metadata": {
    "collapsed": false
   },
   "id": "629b7f364ec4ffc5"
  },
  {
   "cell_type": "code",
   "execution_count": null,
   "outputs": [],
   "source": [],
   "metadata": {
    "collapsed": false
   },
   "id": "b22758ad018e49a5"
  }
 ],
 "metadata": {
  "kernelspec": {
   "display_name": "Python 3",
   "language": "python",
   "name": "python3"
  },
  "language_info": {
   "codemirror_mode": {
    "name": "ipython",
    "version": 2
   },
   "file_extension": ".py",
   "mimetype": "text/x-python",
   "name": "python",
   "nbconvert_exporter": "python",
   "pygments_lexer": "ipython2",
   "version": "2.7.6"
  }
 },
 "nbformat": 4,
 "nbformat_minor": 5
}
