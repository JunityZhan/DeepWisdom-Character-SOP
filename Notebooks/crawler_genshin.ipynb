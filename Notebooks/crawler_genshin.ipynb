{
 "cells": [
  {
   "cell_type": "code",
   "execution_count": null,
   "id": "initial_id",
   "metadata": {
    "collapsed": true
   },
   "outputs": [],
   "source": [
    "import requests\n",
    "from bs4 import BeautifulSoup\n",
    "import re"
   ]
  },
  {
   "cell_type": "code",
   "execution_count": null,
   "id": "b726f3d1cfac3bba",
   "metadata": {
    "collapsed": false
   },
   "outputs": [],
   "source": [
    "url = \"https://genshin-impact.fandom.com/ja/wiki/%E5%87%9D%E5%85%89/%E3%82%B9%E3%83%88%E3%83%BC%E3%83%AA%E3%83%BC\"\n",
    "response = requests.get(url)"
   ]
  },
  {
   "cell_type": "code",
   "execution_count": null,
   "id": "d15612f542957eaf",
   "metadata": {
    "collapsed": false
   },
   "outputs": [],
   "source": [
    "soup =  BeautifulSoup(response.text, 'html.parser')\n",
    "divs = soup.find_all('div', {'class': 'mw-parser-output'})\n",
    "for div in divs:\n",
    "    di = div.find_all('p')\n",
    "    for d in di:\n",
    "        print(d.text)"
   ]
  },
  {
   "cell_type": "code",
   "execution_count": null,
   "id": "a202cf7be57609ed",
   "metadata": {
    "collapsed": false
   },
   "outputs": [],
   "source": [
    "npc_list = []"
   ]
  },
  {
   "cell_type": "code",
   "execution_count": null,
   "id": "7da1e36cd0b342d7",
   "metadata": {
    "collapsed": false
   },
   "outputs": [],
   "source": [
    "url = \"https://genshin-impact.fandom.com/wiki/NPC/List\"\n",
    "response = requests.get(url)\n",
    "soup =  BeautifulSoup(response.text, 'html.parser')\n",
    "divs = soup.find_all('div', {'class': 'mw-parser-output'})\n",
    "for div in divs:\n",
    "    ct = div.find_all('div', {'class': 'columntemplate'})\n",
    "    for li in ct:\n",
    "        name  = li.find_all('a')\n",
    "        for n in name:\n",
    "            npc_list.append(n.text.replace(' ', '_'))"
   ]
  },
  {
   "cell_type": "code",
   "execution_count": null,
   "id": "85427ce53f2ee080",
   "metadata": {
    "collapsed": false
   },
   "outputs": [],
   "source": [
    "urls = [\"https://genshin-impact.fandom.com/wiki/\" + npc for npc in npc_list]"
   ]
  },
  {
   "cell_type": "code",
   "execution_count": null,
   "id": "94c6cef1ae7898b8",
   "metadata": {
    "collapsed": false
   },
   "outputs": [],
   "source": [
    "print(urls[3])"
   ]
  },
  {
   "cell_type": "code",
   "execution_count": null,
   "id": "d5721b8cfdcc11a2",
   "metadata": {
    "collapsed": false
   },
   "outputs": [],
   "source": [
    "responses = [requests.get(url) for url in urls]\n",
    "# response = requests.get(urls[0])"
   ]
  },
  {
   "cell_type": "code",
   "execution_count": null,
   "id": "14dbfdede1148bba",
   "metadata": {
    "collapsed": false
   },
   "outputs": [],
   "source": [
    "print(len(responses))"
   ]
  },
  {
   "cell_type": "code",
   "execution_count": null,
   "id": "860f4f76a88a50b8",
   "metadata": {
    "collapsed": false
   },
   "outputs": [],
   "source": [
    "for idx, response in enumerate(responses):\n",
    "    soup =  BeautifulSoup(response.text, 'html.parser')\n",
    "    divs = soup.find_all('div', {'class': 'mw-parser-output'})\n",
    "    flag = False\n",
    "    for div in divs:\n",
    "        di = div.find_all()\n",
    "        for d in di:\n",
    "            if d.text == 'Dialogue[]':\n",
    "                flag = True\n",
    "            if flag and (d.text.find(npc_list[idx].replace('_', ' ')) != -1):\n",
    "                # print(re.sub(r'\\n[ \\t]*([^A-Za-z:]+)', r'\\nTraveler:\\1', d.text))\n",
    "                with open('NPC_Dialogues.txt', 'a', encoding='utf-8') as f:\n",
    "                    f.write(re.sub(r'\\n[ \\t]*([^A-Za-z:]+)', r'\\nTraveler:\\1', d.text))\n",
    "                flag = False\n",
    "            # print(d.text)\n",
    "            # print('------------------')"
   ]
  },
  {
   "cell_type": "code",
   "execution_count": null,
   "id": "6739fab9cc9e15f4",
   "metadata": {
    "collapsed": false
   },
   "outputs": [],
   "source": [
    "monster_list = []\n",
    "url = \"https://genshin-impact.fandom.com/wiki/Enemy/List\"\n",
    "response = requests.get(url)\n",
    "soup =  BeautifulSoup(response.text, 'html.parser')\n",
    "divs = soup.find_all('div', {'class': 'card-container'})\n",
    "for div in divs:\n",
    "    monster_list.append(div.text[3:].replace(' ', '_'))"
   ]
  },
  {
   "cell_type": "code",
   "execution_count": null,
   "id": "ba6ba844448b274d",
   "metadata": {
    "collapsed": false
   },
   "outputs": [],
   "source": [
    "urls = [\"https://genshin-impact.fandom.com/wiki/\" + monster for monster in monster_list]"
   ]
  },
  {
   "cell_type": "code",
   "execution_count": null,
   "id": "6f25bd1295fc55da",
   "metadata": {
    "collapsed": false
   },
   "outputs": [],
   "source": [
    "responses = [requests.get(url) for url in urls]"
   ]
  },
  {
   "cell_type": "code",
   "execution_count": null,
   "id": "1f6ea29652349b53",
   "metadata": {
    "collapsed": false
   },
   "outputs": [],
   "source": [
    "for idx, response in enumerate(responses):\n",
    "    soup =  BeautifulSoup(response.text, 'html.parser')\n",
    "    divs = soup.find_all('div', {'class': 'description-wrapper'})\n",
    "    for div in divs:\n",
    "        # print(div.text.replace('Archive',''))\n",
    "        text = div.text.replace('Archive','')\n",
    "        with open('Monster_Descriptions.txt', 'a', encoding='utf-8') as f:\n",
    "            f.write(monster_list[idx].replace('_', ' ') + ' is ' + text[0].lower() + text[1:] + '\\n')"
   ]
  },
  {
   "cell_type": "code",
   "execution_count": null,
   "id": "b225c5dfe6f11f3d",
   "metadata": {
    "collapsed": false
   },
   "outputs": [],
   "source": [
    "Event_list = []\n",
    "url = 'https://genshin-impact.fandom.com/wiki/World_Quest/Event_List'\n",
    "response = requests.get(url)\n",
    "soup =  BeautifulSoup(response.text, 'html.parser')\n",
    "divs = soup.find_all('a')\n",
    "flag = False\n",
    "for div in divs:\n",
    "    if flag:\n",
    "        if div.text == 'The Toy War: Shots Fired':\n",
    "            flag=False\n",
    "        Event_list.append(div.text.replace(' ', '_'))\n",
    "        # print(div.text.replace(' ', '_'))\n",
    "    if div.text == 'Event Quest':\n",
    "        flag = True"
   ]
  },
  {
   "cell_type": "code",
   "execution_count": null,
   "id": "dd75b638a02116dd",
   "metadata": {
    "collapsed": false
   },
   "outputs": [],
   "source": [
    "urls = [\"https://genshin-impact.fandom.com/wiki/\"+ event for event in Event_list]"
   ]
  },
  {
   "cell_type": "code",
   "execution_count": null,
   "id": "305fa27c925dc266",
   "metadata": {
    "collapsed": false
   },
   "outputs": [],
   "source": [
    "responses = [requests.get(url) for url in urls]"
   ]
  },
  {
   "cell_type": "code",
   "execution_count": null,
   "id": "e6eea8d5d75f2a14",
   "metadata": {
    "collapsed": false
   },
   "outputs": [],
   "source": [
    "pattern = r\"Media:vo\\s+[a-zA-Z]{4}\\d{3}\\s+\\d\\s+\\w+\\s+\\d{2}\\.ogg\\s+\"\n",
    "for response in responses:\n",
    "    soup =  BeautifulSoup(response.text, 'html.parser')\n",
    "    divs = soup.find_all('div', {'class': 'dialogue'})\n",
    "    for div in divs:\n",
    "        # print(re.sub(r'\\n[ \\t]*([^A-Za-z:]+)', r'\\nTraveler:\\1', div.text))\n",
    "        text = re.sub(r'\\n[ \\t]*([^A-Za-z:]+)', r'\\nTraveler:\\1', div.text)\n",
    "        # text = re.sub(pattern, '', text)\n",
    "        while text.find(\".ogg\") != -1:\n",
    "            position = text.find(\".ogg\")\n",
    "            text = text[position+5:]\n",
    "        with open('Event_Dialogues.txt', 'a', encoding='utf-8') as f:\n",
    "            f.write(text)"
   ]
  },
  {
   "cell_type": "code",
   "execution_count": null,
   "id": "d63714090adc10e6",
   "metadata": {
    "collapsed": false
   },
   "outputs": [],
   "source": [
    "pattern = r\"Media:vo\\s+[a-zA-Z]{5}\\d{3}\\s+\\d\\s+\\w+\\s+\\d{2}\\.ogg\\s+\"\n",
    "text = \"\"\"\n",
    "Media:vo eqhdj201 1 talk paimon 01.ogg Paimon: (Traveler), hurry! It's almost time for us to join Hu Tao for dinner!\n",
    "\"\"\"\n",
    "text = re.sub(pattern, '', text)\n",
    "print(text)"
   ]
  },
  {
   "cell_type": "code",
   "execution_count": null,
   "id": "d59cefa4a81f43b6",
   "metadata": {
    "collapsed": false
   },
   "outputs": [],
   "source": [
    "url = 'https://genshin-impact.fandom.com/wiki/Story_Quest/List'\n",
    "response = requests.get(url)"
   ]
  },
  {
   "cell_type": "code",
   "execution_count": null,
   "id": "d6e2f8148b58f93",
   "metadata": {
    "collapsed": false
   },
   "outputs": [],
   "source": [
    "story_list = []\n",
    "soup =  BeautifulSoup(response.text, 'html.parser')\n",
    "divs = soup.find_all('a')\n",
    "flag = False\n",
    "for div in divs:\n",
    "    text = div.text.split('\\n')\n",
    "    for t in text:\n",
    "        if t == 'Hangout Event/List':\n",
    "            flag = True\n",
    "            continue\n",
    "        if flag:\n",
    "            if t == 'Genshin Impact Review – Direct Hit':\n",
    "                flag = False\n",
    "                break\n",
    "            story_list.append(t.replace(' ', '_'))"
   ]
  },
  {
   "cell_type": "code",
   "execution_count": null,
   "id": "8e895bd187f9236d",
   "metadata": {
    "collapsed": false
   },
   "outputs": [],
   "source": [
    "url = 'https://genshin-impact.fandom.com/wiki/Story_Quest/Event_List'\n",
    "response = requests.get(url)\n",
    "soup =  BeautifulSoup(response.text, 'html.parser')\n",
    "divs = soup.find_all('a')\n",
    "flag = False\n",
    "for div in divs:\n",
    "    text = div.text.split('\\n')\n",
    "    for t in text:\n",
    "        if t == 'Gallery':\n",
    "            flag = True\n",
    "            continue\n",
    "        if flag:\n",
    "            if t == 'Genshin Impact Review – Direct Hit':\n",
    "                flag = False\n",
    "                break\n",
    "            story_list.append(t.replace(' ', '_'))\n",
    "            # print(t)"
   ]
  },
  {
   "cell_type": "code",
   "execution_count": null,
   "id": "dcc3d6ac77836a1d",
   "metadata": {
    "collapsed": false
   },
   "outputs": [],
   "source": [
    "urls = [\"https://genshin-impact.fandom.com/wiki/\"+ story for story in story_list]\n",
    "responses = [requests.get(url) for url in urls]"
   ]
  },
  {
   "cell_type": "code",
   "execution_count": null,
   "id": "de7ea697489c7c5",
   "metadata": {
    "collapsed": false
   },
   "outputs": [],
   "source": [
    "for response in responses:\n",
    "    soup =  BeautifulSoup(response.text, 'html.parser')\n",
    "    divs = soup.find_all('div', {'class': 'dialogue'})\n",
    "    for div in divs:\n",
    "        text = re.sub(r'\\n[ \\t]*([^A-Za-z:]+)', r'\\nTraveler:\\1', div.text)\n",
    "        text2 = text.split('\\n')\n",
    "        for text in text2:\n",
    "            while text.find(\".ogg\") != -1:\n",
    "                position = text.find(\".ogg\")\n",
    "                text = text[position+5:]\n",
    "            with open('Story_Dialogues.txt', 'a', encoding='utf-8') as f:\n",
    "                f.write(text+'\\n')"
   ]
  },
  {
   "cell_type": "code",
   "execution_count": null,
   "id": "ced066e503edded5",
   "metadata": {
    "collapsed": false
   },
   "outputs": [],
   "source": [
    "url = 'https://genshin-impact.fandom.com/wiki/Hangout_Event/List'\n",
    "response = requests.get(url)"
   ]
  },
  {
   "cell_type": "code",
   "execution_count": null,
   "id": "54f79da6f3a00c88",
   "metadata": {
    "collapsed": false
   },
   "outputs": [],
   "source": [
    "handout_list = []\n",
    "soup =  BeautifulSoup(response.text, 'html.parser')\n",
    "divs = soup.find_all('a')\n",
    "flag = False\n",
    "for div in divs:\n",
    "    text = div.text.split('\\n')\n",
    "    for t in text:\n",
    "        if t == 'Gallery':\n",
    "            flag = True\n",
    "            continue\n",
    "        if flag:\n",
    "            if t == 'Genshin Impact Review – Direct Hit':\n",
    "                flag = False\n",
    "                break\n",
    "            handout_list.append(t.replace(' ', '_'))\n",
    "            # print(t)"
   ]
  },
  {
   "cell_type": "code",
   "execution_count": null,
   "id": "d46ea44b933df7fe",
   "metadata": {
    "collapsed": false
   },
   "outputs": [],
   "source": [
    "urls = [\"https://genshin-impact.fandom.com/wiki/\"+ handout for handout in handout_list]\n",
    "responses = [requests.get(url) for url in urls]"
   ]
  },
  {
   "cell_type": "code",
   "execution_count": null,
   "id": "603b78a256a315e1",
   "metadata": {
    "collapsed": false
   },
   "outputs": [],
   "source": [
    "for response in responses:\n",
    "    soup =  BeautifulSoup(response.text, 'html.parser')\n",
    "    divs = soup.find_all('div', {'class': 'dialogue'})\n",
    "    for div in divs:\n",
    "        text = re.sub(r'\\n[ \\t]*([^A-Za-z:]+)', r'\\nTraveler:\\1', div.text)\n",
    "        text2 = text.split('\\n')\n",
    "        for text in text2:\n",
    "            while text.find(\".ogg\") != -1:\n",
    "                position = text.find(\".ogg\")\n",
    "                text = text[position+5:]\n",
    "            with open('Handout_Dialogues.txt', 'a', encoding='utf-8') as f:\n",
    "                f.write(text+'\\n')"
   ]
  },
  {
   "cell_type": "code",
   "execution_count": null,
   "id": "9db6600923da14be",
   "metadata": {
    "collapsed": false
   },
   "outputs": [],
   "source": [
    "url = 'https://genshin-impact.fandom.com/wiki/Archon_Quest'\n",
    "response = requests.get(url)"
   ]
  },
  {
   "cell_type": "code",
   "execution_count": null,
   "id": "af0423500820603a",
   "metadata": {
    "collapsed": false
   },
   "outputs": [],
   "source": [
    "Archon_list = []\n",
    "soup =  BeautifulSoup(response.text, 'html.parser')\n",
    "divs = soup.find_all('a')\n",
    "flag = False\n",
    "for div in divs:\n",
    "    div = div.text.split('\\n')\n",
    "    if len(div) == 1:\n",
    "        for text in div:\n",
    "            if text == 'Mondstadt':\n",
    "                flag = True\n",
    "                continue\n",
    "            if flag:\n",
    "                if text == 'Chapter V':\n",
    "                    flag = False\n",
    "                    break\n",
    "                if len(text.split(' ')) > 2:\n",
    "                    Archon_list.append(text.replace(' ', '_'))\n",
    "    # print(div.text)"
   ]
  },
  {
   "cell_type": "code",
   "execution_count": null,
   "id": "b61c7fcb939924e",
   "metadata": {
    "collapsed": false
   },
   "outputs": [],
   "source": [
    "print(Archon_list)"
   ]
  },
  {
   "cell_type": "code",
   "execution_count": null,
   "id": "bda96971b2964233",
   "metadata": {
    "collapsed": false
   },
   "outputs": [],
   "source": [
    "urls = [\"https://genshin-impact.fandom.com/wiki/\"+ Archon for Archon in Archon_list]\n",
    "responses = [requests.get(url) for url in urls]"
   ]
  },
  {
   "cell_type": "code",
   "execution_count": null,
   "id": "cf60f07913911e50",
   "metadata": {
    "collapsed": false
   },
   "outputs": [],
   "source": [
    "Archon_quest_list = Archon_list.copy()\n",
    "for idx, response in enumerate(responses):\n",
    "    soup =  BeautifulSoup(response.text, 'html.parser')\n",
    "    divs = soup.find_all('ol')\n",
    "    flag = False\n",
    "    print(Archon_list[idx])\n",
    "    print('------------------')\n",
    "    for div in divs:\n",
    "        div = div.text.split('\\n')\n",
    "        for text in div:\n",
    "            if text != '':\n",
    "                Archon_quest_list.append(text.replace(' ', '_'))\n",
    "                print(text.replace(' ', '_'))\n",
    "    print('------------------')"
   ]
  },
  {
   "cell_type": "code",
   "execution_count": null,
   "id": "b2d7259872cf94f6",
   "metadata": {
    "collapsed": false
   },
   "outputs": [],
   "source": [
    "len(Archon_quest_list)"
   ]
  },
  {
   "cell_type": "code",
   "execution_count": null,
   "id": "9c440c1b353b156a",
   "metadata": {
    "collapsed": false
   },
   "outputs": [],
   "source": [
    "urls = [\"https://genshin-impact.fandom.com/wiki/\"+ Archon_quest for Archon_quest in Archon_quest_list]\n",
    "responses = [requests.get(url) for url in urls]"
   ]
  },
  {
   "cell_type": "code",
   "execution_count": null,
   "id": "a1604aabcdc578c2",
   "metadata": {
    "collapsed": false
   },
   "outputs": [],
   "source": [
    "print(urls)"
   ]
  },
  {
   "cell_type": "code",
   "execution_count": null,
   "id": "1623b4e65b395cb6",
   "metadata": {
    "collapsed": false
   },
   "outputs": [],
   "source": [
    "for response in responses:\n",
    "    soup =  BeautifulSoup(response.text, 'html.parser')\n",
    "    divs = soup.find_all('div', {'class': 'dialogue'})\n",
    "    for div in divs:\n",
    "        text = re.sub(r'\\n[ \\t]*([^A-Za-z:]+)', r'\\nTraveler:\\1', div.text)\n",
    "        text2 = text.split('\\n')\n",
    "        for text in text2:\n",
    "            while text.find(\".ogg\") != -1:\n",
    "                position = text.find(\".ogg\")\n",
    "                text = text[position+5:]\n",
    "            with open('Archon_Dialogues.txt', 'a', encoding='utf-8') as f:\n",
    "                f.write(text+'\\n')"
   ]
  },
  {
   "cell_type": "code",
   "execution_count": null,
   "id": "86b1814ed0766b19",
   "metadata": {
    "collapsed": false
   },
   "outputs": [],
   "source": [
    "url = 'https://genshin-impact.fandom.com/wiki/Book'\n",
    "response = requests.get(url)"
   ]
  },
  {
   "cell_type": "code",
   "execution_count": null,
   "id": "7dac258834139c38",
   "metadata": {
    "collapsed": false
   },
   "outputs": [],
   "source": [
    "book_list = []\n",
    "soup =  BeautifulSoup(response.text, 'html.parser')\n",
    "divs = soup.find_all('a')\n",
    "flag = False\n",
    "for div in divs:\n",
    "    text = div.text.split('\\n')\n",
    "    for t in text:\n",
    "        if t == 'Genshin Impact Review – Direct Hit':\n",
    "            flag = True\n",
    "            continue\n",
    "        if flag:\n",
    "            print(t)"
   ]
  },
  {
   "cell_type": "code",
   "execution_count": null,
   "id": "a658b61ddd4635b5",
   "metadata": {
    "collapsed": false
   },
   "outputs": [],
   "source": [
    "book = \"\"\"\n",
    "Teyvat Travel Guide\n",
    "\n",
    "The Mondstadt Tower\n",
    "\n",
    "Draft Hilichurl Ballads\n",
    "\n",
    "The Legend of Vennessa\n",
    "\n",
    "Hilichurl Ballad Selection\n",
    "\n",
    "Diary of Roald the Adventurer\n",
    "\n",
    "Someone's Diary\n",
    "\n",
    "Records of Jueyun\n",
    "\n",
    "Hilichurl Cultural Customs\n",
    "\n",
    "Ballads of the Squire\n",
    "\n",
    "Heart of Clear Springs\n",
    "\n",
    "Tales From the Waves\n",
    "\n",
    "Moonlit Bamboo Forest\n",
    "\n",
    "A Drunkard's Tale\n",
    "\n",
    "Rex Incognito\n",
    "\n",
    "Customs of Liyue\n",
    "\n",
    "Records of the Gallant\n",
    "\n",
    "Breeze Amidst the Forest\n",
    "\n",
    "String of Pearls\n",
    "\n",
    "Treasured Tales of the Chouken Shinkageuchi\n",
    "\n",
    "The Saga of Hamavaran\n",
    "\n",
    "The Byakuyakoku Collection\n",
    "\n",
    "Vera's Melancholy\n",
    "\n",
    "The Fox in the Dandelion Sea\n",
    "\n",
    "The Boar Princess\n",
    "\n",
    "Legend of the Shattered Halberd\n",
    "\n",
    "Heart's Desire\n",
    "\n",
    "Hex & Hound\n",
    "\n",
    "The Pale Princess and the Six Pygmies\n",
    "\n",
    "Legend of the Lone Sword\n",
    "\n",
    "New Chronicles of the Six Kitsune\n",
    "\n",
    "A Legend of Sword\n",
    "\n",
    "Toki Alley Tales\n",
    "\n",
    "Princess Mina of the Fallen Nation\n",
    "\n",
    "Flowers for Princess Fischl\n",
    "\n",
    "The Tale of Shiruyeh and Shirin\n",
    "\n",
    "The Folio of Foliage\n",
    "\n",
    "Scroll of Streaming Song\n",
    "\n",
    "A Thousand Nights\n",
    "\n",
    "Fables de Fontaine\n",
    "\n",
    "The History of the Decline and Fall of Remuria\n",
    "\n",
    "Robben versus Chesterton: Iridescent Brooch\n",
    "\n",
    "Biography of Gunnhildr\n",
    "\n",
    "1000 Years of Loneliness\n",
    "\n",
    "Wind, Courage, and Wings\n",
    "\n",
    "Knights of Favonius Handbook - 5th Edition\n",
    "\n",
    "Along with Divinity: Prologue\n",
    "\n",
    "Stone Tablet Compilations: Vol. I\n",
    "\n",
    "Verses of Equilibrium\n",
    "\n",
    "History of Kings and Clans: Prologue\n",
    "\n",
    "First Apprentice of Guhua\n",
    "\n",
    "Thick Notebook\n",
    "\n",
    "Humor From Tianheng\n",
    "\n",
    "Linling's Anthology of Selected Poetry\n",
    "\n",
    "Yakshas: The Guardian Adepti\n",
    "\n",
    "\"Of Mountains and Seas\"\n",
    "\n",
    "Ancient Investigation Journal: Part I\n",
    "\n",
    "Ancient Investigation Journal: Part II\n",
    "\n",
    "Meadow of Gems\n",
    "\n",
    "Lost Adventure Notebook\n",
    "\n",
    "Ancient Investigation Journal: Part III\n",
    "\n",
    "Ragged Notebook\n",
    "\n",
    "Pharmacist's Notebook (I)\n",
    "\n",
    "Pharmacist's Notebook (II)\n",
    "\n",
    "Pharmacist's Notebook (III)\n",
    "\n",
    "Gliding Instruction Manual\n",
    "\n",
    "King of Invokations\n",
    "\n",
    "Sangonomiya Chronicles\n",
    "\n",
    "A Preliminary Study of Sangonomiya Folk Belief\n",
    "\n",
    "The Life of Mouun the Shrine Maiden\n",
    "\n",
    "Debates on the \"Viceroy of the East\"\n",
    "\n",
    "The Serpent and Drakes of Tokoyokoku\n",
    "\n",
    "Sacred Sakura Cleansing Summary\n",
    "\n",
    "Ragged Notebook\n",
    "\n",
    "Records of a Changing Village\n",
    "\n",
    "Mountainous Miscellany\n",
    "\n",
    "Let's Go, Dodoco!\n",
    "\n",
    "Pretty Please, Kitsune Guuji?\n",
    "\n",
    "Shogun Almighty: Reborn as Raiden With Unlimited Power\n",
    "\n",
    "Onibudou\n",
    "\n",
    "Handy Handbook of Hilichurlian\n",
    "\n",
    "An Ode to Khvarena\n",
    "\n",
    "The Lay of Al-Ahmar\n",
    "\n",
    "The Shepherd and the Magic Bottle\n",
    "\"\"\""
   ]
  },
  {
   "cell_type": "code",
   "execution_count": null,
   "id": "aff574b6abeca0a2",
   "metadata": {
    "collapsed": false
   },
   "outputs": [],
   "source": [
    "book_list = book.split('\\n')[1:-1:2]"
   ]
  },
  {
   "cell_type": "code",
   "execution_count": null,
   "id": "18911a59219b05ea",
   "metadata": {
    "collapsed": false
   },
   "outputs": [],
   "source": [
    "urls = [\"https://genshin-impact.fandom.com/wiki/\"+ book.replace(' ', '_') for book in book_list]\n",
    "responses = [requests.get(url) for url in urls]"
   ]
  },
  {
   "cell_type": "code",
   "execution_count": null,
   "id": "3a1325a3e17ea038",
   "metadata": {
    "collapsed": false
   },
   "outputs": [],
   "source": [
    "for response in responses:\n",
    "    soup =  BeautifulSoup(response.text, 'html.parser')\n",
    "    divs = soup.find_all('p')\n",
    "    for idx, div in enumerate(divs):\n",
    "        if idx == 0:\n",
    "            continue\n",
    "        if div.text.find('Version') != -1:\n",
    "            break\n",
    "        if div.text.find('Footnotes') != -1:\n",
    "            break\n",
    "        if div.text.find('▉') != -1:\n",
    "            break\n",
    "        if div.text.find('2020') != -1:\n",
    "            break\n",
    "        if div.text.find('2021') != -1:\n",
    "            break\n",
    "        if div.text.find('2022') != -1:\n",
    "            break\n",
    "        if div.text.find('2023') != -1:\n",
    "            break\n",
    "        # print(div.text)\n",
    "        # print('------------------')\n",
    "        with open('Books_content.txt', 'a', encoding='utf-8') as f:\n",
    "            f.write(div.text)\n",
    "    # break"
   ]
  },
  {
   "cell_type": "code",
   "execution_count": null,
   "id": "496faea89851af7",
   "metadata": {
    "collapsed": false
   },
   "outputs": [],
   "source": [
    "url = 'https://genshin-impact.fandom.com/wiki/Artifact/Sets'\n",
    "response = requests.get(url)"
   ]
  },
  {
   "cell_type": "code",
   "execution_count": null,
   "id": "bd94bf86889ecff4",
   "metadata": {
    "collapsed": false
   },
   "outputs": [],
   "source": [
    "soup =  BeautifulSoup(response.text, 'html.parser')\n",
    "divs = soup.find_all('a')\n",
    "for div in divs:\n",
    "    print(div.text)"
   ]
  },
  {
   "cell_type": "code",
   "execution_count": null,
   "id": "253caf44662bca74",
   "metadata": {
    "collapsed": false
   },
   "outputs": [],
   "source": [
    "Artifact = \"\"\"Initiate\n",
    "Prayers to Springtime\n",
    "Prayers for Wisdom\n",
    "Prayers for Destiny\n",
    "Prayers for Illumination\n",
    "Tiny Miracle\n",
    "Desert Pavilion Chronicle\n",
    "Viridescent Venerer\n",
    "Vermillion Hereafter\n",
    "Gladiator's Finale\n",
    "Brave Heart\n",
    "Echoes of an Offering\n",
    "Resolution of Sojourner\n",
    "Shimenawa's Reminiscence\n",
    "Maiden Beloved\n",
    "Berserker\n",
    "Blizzard Strayer\n",
    "Husk of Opulent Dreams\n",
    "Defender's Will\n",
    "Lucky Dog\n",
    "Deepwood Memories\n",
    "Thundering Fury\n",
    "Thundersoother\n",
    "Noblesse Oblige\n",
    "Scholar\n",
    "Emblem of Severed Fate\n",
    "The Exile\n",
    "Archaic Petra\n",
    "Ocean-Hued Clam\n",
    "Vourukasha's Glow\n",
    "Tenacity of the Millelith\n",
    "Nymph's Dream\n",
    "Heart of Depth\n",
    "Wanderer's Troupe\n",
    "Flower of Paradise Lost\n",
    "Instructor\n",
    "Gilded Dreams\n",
    "Gambler\n",
    "Golden Troupe\n",
    "Traveling Doctor\n",
    "Retracing Bolide\n",
    "Adventurer\n",
    "Marechaussee Hunter\n",
    "Martial Artist\n",
    "Bloodstained Chivalry\n",
    "Pale Flame\n",
    "Crimson Witch of Flames\n",
    "Lavawalker\n",
    "\"\"\"\n",
    "Artifact_list = Artifact.split('\\n')"
   ]
  },
  {
   "cell_type": "code",
   "execution_count": null,
   "id": "8d18b0f1dae7f75e",
   "metadata": {
    "collapsed": false
   },
   "outputs": [],
   "source": [
    "urls = [\"https://genshin-impact.fandom.com/wiki/\"+ Artifact.replace(' ', '_') for Artifact in Artifact_list]\n",
    "responses = [requests.get(url) for url in urls]"
   ]
  },
  {
   "cell_type": "code",
   "execution_count": null,
   "id": "baa4088e2a50c61c",
   "metadata": {
    "collapsed": false
   },
   "outputs": [],
   "source": [
    "for idx, response in enumerate(responses):\n",
    "    flag = False\n",
    "    soup =  BeautifulSoup(response.text, 'html.parser')\n",
    "    divs = soup.find_all('p')\n",
    "    for div in divs:\n",
    "        if div.text == '13 October 2020':\n",
    "            flag = True\n",
    "            continue\n",
    "        if flag:\n",
    "            with open('Artifact_story.txt', 'a', encoding='utf-8') as f:\n",
    "                f.write(div.text)\n"
   ]
  },
  {
   "cell_type": "code",
   "execution_count": null,
   "id": "286b72367646b8fb",
   "metadata": {
    "collapsed": false
   },
   "outputs": [],
   "source": [
    "# count number of words\n",
    "with open('Genshin_English.txt', 'r', encoding='utf-8') as f:\n",
    "    text = f.read()\n",
    "    print(len(text.split(' ')))"
   ]
  },
  {
   "cell_type": "code",
   "execution_count": null,
   "id": "ba955d76b0952e12",
   "metadata": {
    "collapsed": false
   },
   "outputs": [],
   "source": []
  }
 ],
 "metadata": {
  "kernelspec": {
   "display_name": "Python 3",
   "language": "python",
   "name": "python3"
  },
  "language_info": {
   "codemirror_mode": {
    "name": "ipython",
    "version": 3
   },
   "file_extension": ".py",
   "mimetype": "text/x-python",
   "name": "python",
   "nbconvert_exporter": "python",
   "pygments_lexer": "ipython3",
   "version": "3.8.16"
  }
 },
 "nbformat": 4,
 "nbformat_minor": 5
}
