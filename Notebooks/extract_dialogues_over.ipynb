{
 "cells": [
  {
   "cell_type": "code",
   "execution_count": null,
   "id": "initial_id",
   "metadata": {
    "collapsed": true
   },
   "outputs": [],
   "source": [
    "import requests\n",
    "from bs4 import BeautifulSoup\n",
    "import re"
   ]
  },
  {
   "cell_type": "code",
   "execution_count": null,
   "outputs": [],
   "source": [
    "character_list =\"\"\"Albedo\n",
    "Alhaitham\n",
    "Aloy\n",
    "Amber\n",
    "Arataki Itto\n",
    "Baizhu\n",
    "Barbara\n",
    "Beidou\n",
    "Bennett\n",
    "Candace\n",
    "Chongyun\n",
    "Collei\n",
    "Cyno\n",
    "Dehya\n",
    "Diluc\n",
    "Diona\n",
    "Dori\n",
    "Eula\n",
    "Faruzan\n",
    "Fischl\n",
    "Freminet\n",
    "Ganyu\n",
    "Gorou\n",
    "Hu Tao\n",
    "Jean\n",
    "Kaedehara Kazuha\n",
    "Kaeya\n",
    "Kamisato Ayaka\n",
    "Kamisato Ayato\n",
    "Kaveh\n",
    "Keqing\n",
    "Kirara\n",
    "Klee\n",
    "Kujou Sara\n",
    "Kuki Shinobu\n",
    "Layla\n",
    "Lisa\n",
    "Lynette\n",
    "Lyney\n",
    "Mika\n",
    "Mona\n",
    "Nahida\n",
    "Nilou\n",
    "Ningguang\n",
    "Noelle\n",
    "Qiqi\n",
    "Raiden Shogun\n",
    "Razor\n",
    "Rosaria\n",
    "Sangonomiya Kokomi\n",
    "Sayu\n",
    "Shenhe\n",
    "Shikanoin Heizou\n",
    "Sucrose\n",
    "Tartaglia\n",
    "Thoma\n",
    "Tighnari\n",
    "Traveler\n",
    "Wanderer\n",
    "Xiangling\n",
    "Xiao\n",
    "Xingqiu\n",
    "Xinyan\n",
    "Yae Miko\n",
    "Yanfei\n",
    "Yaoyao\n",
    "Yelan\n",
    "Yoimiya\n",
    "Yun Jin\n",
    "Zhongli\"\"\".split(\"\\n\")"
   ],
   "metadata": {
    "collapsed": false
   },
   "id": "51daa412d9c14eeb"
  },
  {
   "cell_type": "code",
   "execution_count": null,
   "outputs": [],
   "source": [
    "character_dict = {\n",
    "    \"Diluc\": \"迪卢克\",\n",
    "    \"Jean\": \"琴\",\n",
    "    \"Mona\": \"莫娜\",\n",
    "    \"Venti\": \"温迪\",\n",
    "    \"Klee\": \"可莉\",\n",
    "    \"Lisa\": \"丽莎\",\n",
    "    \"Amber\": \"安柏\",\n",
    "    \"Kaeya\": \"凯亚\",\n",
    "    \"Beidou\": \"北斗\",\n",
    "    \"Diona\": \"迪奥娜\",\n",
    "    \"Noelle\": \"诺艾尔\",\n",
    "    \"Barbara\": \"芭芭拉\",\n",
    "    \"Fischl\": \"菲谢尔\",\n",
    "    \"Ningguang\": \"凝光\",\n",
    "    \"Bennett\": \"班尼特\",\n",
    "    \"Xingqiu\": \"行秋\",\n",
    "    \"Zhongli\": \"钟离\",\n",
    "    \"Albedo\": \"阿贝多\",\n",
    "    \"Ganyu\": \"甘雨\",\n",
    "    \"Hu Tao\": \"胡桃\",\n",
    "    \"Xiao\": \"魈\",\n",
    "    \"Rosaria\": \"罗莎莉亚\",\n",
    "    \"Eula\": \"优菈\",\n",
    "    \"Kamisato Ayaka\": \"神里绫华\",\n",
    "    \"Kamisato Ayato\":  \"神里绫人\",\n",
    "    \"Traveler\": \"旅行者\",\n",
    "    \"Keqing\": \"刻晴\",\n",
    "    \"Raiden Shogun\": \"雷电将军\",\n",
    "    \"Kujou Sara\": \"九条裟罗\",\n",
    "    \"Yoimiya\": \"宵宫\",\n",
    "    \"Arataki Itto\": \"荒泷一斗\",\n",
    "    \"Yanfei\": \"烟绯\",\n",
    "    \"Gorou\": \"五郎\",\n",
    "    \"Razor\": \"雷泽\",\n",
    "    \"Sucrose\": \"砂糖\",\n",
    "    \"Xiangling\": \"香菱\",\n",
    "    \"Thoma\": \"托马\",\n",
    "    \"Baizhu\": \"白术\",\n",
    "    \"Aloy\": \"埃洛伊\",\n",
    "    \"Tartaglia\": \"达达利亚\",\n",
    "    \"Sayu\": \"早柚\",\n",
    "    \"Cyno\": \"赛诺\",\n",
    "    \"Qiqi\": \"七七\",\n",
    "    \"Dehya\": \"迪希雅\",\n",
    "    \"Nilou\": \"妮露\",\n",
    "    \"Nahida\": \"纳西妲\",\n",
    "    \"Alhaitham\": \"艾尔海森\",\n",
    "    \"Tighnari\": \"提纳里\",\n",
    "    \"Yelan\": \"夜兰\",\n",
    "    \"Yae Miko\": \"八重神子\",\n",
    "    \"Kaedehara Kazuha\": \"枫原万叶\",\n",
    "    \"Chongyun\": \"重云\",\n",
    "    \"Yun Jin\": \"云堇\",\n",
    "    \"Dori\": \"多莉\",\n",
    "    \"Collei\": \"柯莱\",\n",
    "    \"Mika\": \"米卡\",\n",
    "    \"Kaveh\": \"卡维\",\n",
    "    \"Yaoyao\": \"瑶瑶\",\n",
    "    \"Faruzan\": \"珐露珊\",\n",
    "    \"Layla\": \"莱依拉\",\n",
    "    \"Candace\": \"坎蒂丝\",\n",
    "    \"Wanderer\": \"流浪者\",\n",
    "    \"Xinyan\": \"辛焱\",\n",
    "    # The following \"Traveler\" variations are speculative.\n",
    "    \"Traveler (Dendro)\": \"旅行者/草\",\n",
    "    \"Traveler (Geo)\": \"旅行者/岩\",\n",
    "    \"Traveler (Electro)\": \"旅行者/雷\",\n",
    "    \"Traveler (Anemo)\": \"旅行者/风\",\n",
    "    \"Sangonomiya Kokomi\": \"珊瑚宫心海\",\n",
    "    \"Freminet\": \"菲米尼\",\n",
    "    \"Lynette\": \"琳妮特\",\n",
    "    \"Lyney\": \"林尼\",\n",
    "    \"Kirara\": \"绮良良\",\n",
    "    \"Kuki Shinobu\": \"久岐忍\",\n",
    "    \"Shenhe\": \"申鹤\"\n",
    "}\n",
    "\n"
   ],
   "metadata": {
    "collapsed": false
   },
   "id": "f14c23c6f48c6253"
  },
  {
   "cell_type": "code",
   "execution_count": null,
   "outputs": [],
   "source": [
    "character_list"
   ],
   "metadata": {
    "collapsed": false
   },
   "id": "4523add46b127a64"
  },
  {
   "cell_type": "code",
   "execution_count": null,
   "outputs": [],
   "source": [
    "urls = [f\"https://genshin-impact.fandom.com/wiki/{character}/Voice-Overs/Chinese\" for character in character_list]\n",
    "responses = [requests.get(url) for url in urls]"
   ],
   "metadata": {
    "collapsed": false
   },
   "id": "42acbffacd2ec64"
  },
  {
   "cell_type": "code",
   "execution_count": null,
   "outputs": [],
   "source": [
    "for idx, response in enumerate(responses):\n",
    "    soup = BeautifulSoup(response.text, \"html.parser\")\n",
    "    divs = soup.find_all(\"span\", {\"lang\": \"zh\"})\n",
    "    counter = -1\n",
    "    if character_list[idx] == 'Traveler':\n",
    "        continue\n",
    "    for div in divs:\n",
    "        counter += 1\n",
    "        if counter % 3 == 0:\n",
    "            continue\n",
    "        if counter % 3 == 1:\n",
    "            print(\"旅行者：\"+ div.text)\n",
    "        else:\n",
    "            if character_list[idx] in character_dict:\n",
    "                print(character_dict[character_list[idx]]+\"：\"+ div.text)\n",
    "            else:\n",
    "                print(character_list[idx]+\"：\"+ div.text)\n",
    "        \n",
    "    "
   ],
   "metadata": {
    "collapsed": false
   },
   "id": "75bef4f36cb69127"
  },
  {
   "cell_type": "code",
   "execution_count": null,
   "outputs": [],
   "source": [
    "url = f\"https://genshin-impact.fandom.com/wiki/venti/Voice-Overs/Chinese\"\n",
    "response = requests.get(url)"
   ],
   "metadata": {
    "collapsed": false
   },
   "id": "d1fe5a8fd044249c"
  },
  {
   "cell_type": "code",
   "execution_count": null,
   "outputs": [],
   "source": [
    "soup = BeautifulSoup(response.text, \"html.parser\")\n",
    "divs = soup.find_all(\"span\", {\"lang\": \"zh\"})\n",
    "counter = -1\n",
    "for div in divs:\n",
    "    counter += 1\n",
    "    if counter % 3 == 0:\n",
    "        continue\n",
    "    if counter % 3 == 1:\n",
    "        print(\"旅行者：\"+ div.text)\n",
    "    else:\n",
    "        print(\"温迪：\"+ div.text)"
   ],
   "metadata": {
    "collapsed": false
   },
   "id": "67a71c38827df60b"
  },
  {
   "cell_type": "code",
   "execution_count": null,
   "outputs": [],
   "source": [],
   "metadata": {
    "collapsed": false
   },
   "id": "6c406c345b2519c0"
  }
 ],
 "metadata": {
  "kernelspec": {
   "display_name": "Python 3",
   "language": "python",
   "name": "python3"
  },
  "language_info": {
   "codemirror_mode": {
    "name": "ipython",
    "version": 2
   },
   "file_extension": ".py",
   "mimetype": "text/x-python",
   "name": "python",
   "nbconvert_exporter": "python",
   "pygments_lexer": "ipython2",
   "version": "2.7.6"
  }
 },
 "nbformat": 4,
 "nbformat_minor": 5
}
